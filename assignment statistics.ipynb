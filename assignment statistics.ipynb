{
 "cells": [
  {
   "cell_type": "code",
   "execution_count": 1,
   "id": "0e5db163",
   "metadata": {},
   "outputs": [
    {
     "data": {
      "text/plain": [
       "{'A ∩ B': {8},\n",
       " 'A ∪ C': {2, 3, 4, 6, 8, 9, 10, 11},\n",
       " 'A complement': {1, 3, 5, 7, 9, 11, 12},\n",
       " 'B complement': {1, 2, 4, 5, 6, 7, 9, 10},\n",
       " '(A ∪ B) complement': {1, 5, 7, 9},\n",
       " \"B ∩ C'\": {12},\n",
       " 'A \\\\ B': {2, 4, 6, 10},\n",
       " 'C \\\\ (B \\\\ A)': {2, 6, 8, 9},\n",
       " '(C ∩ A) ∪ (C \\\\ B)': {2, 6, 8, 9},\n",
       " '|A ∪ B ∪ C|': 9,\n",
       " 'Inclusion-Exclusion RHS': 9,\n",
       " 'Inclusion-Exclusion Equal': True}"
      ]
     },
     "execution_count": 1,
     "metadata": {},
     "output_type": "execute_result"
    }
   ],
   "source": [
    "# Define sets A, B, C, and U\n",
    "A = {2, 4, 6, 8, 10}                 # even numbers between 1 and 10\n",
    "B = {3, 8, 11, 12}                  # {3, 8, 11, 12}\n",
    "C = {2, 3, 6, 8, 9, 11}            # {2, 3, 6, 8, 9, 11}\n",
    "U = set(range(1, 13))              # Universal set {1, 2, ..., 12}\n",
    "\n",
    "# Set operations\n",
    "ans1 = A & B                              # A ∩ B\n",
    "ans2 = A | C                              # A ∪ C\n",
    "ans3 = U - A                              # A complement\n",
    "ans4 = U - B                              # B complement\n",
    "ans5 = U - (A | B)                        # (A ∪ B) complement\n",
    "ans6 = B & (U - C)                        # B ∩ C'\n",
    "ans7 = A - B                              # A \\ B\n",
    "ans8 = C - (B - A)                        # C \\ (B \\ A)\n",
    "ans9 = (C & A) | (C - B)                  # (C ∩ A) ∪ (C \\ B)\n",
    "\n",
    "# Inclusion-Exclusion Principle\n",
    "left_hand_eq = len(A | B | C)\n",
    "right_hand_eq = (\n",
    "    len(A) + len(B) + len(C)\n",
    "    - len(A & B)\n",
    "    - len(A & C)\n",
    "    - len(B & C)\n",
    "    + len(A & B & C)\n",
    ")\n",
    "comparison = left_hand_eq == right_hand_eq\n",
    "\n",
    "# Return all results\n",
    "{\n",
    "    \"A ∩ B\": ans1,\n",
    "    \"A ∪ C\": ans2,\n",
    "    \"A complement\": ans3,\n",
    "    \"B complement\": ans4,\n",
    "    \"(A ∪ B) complement\": ans5,\n",
    "    \"B ∩ C'\": ans6,\n",
    "    \"A \\\\ B\": ans7,\n",
    "    \"C \\\\ (B \\\\ A)\": ans8,\n",
    "    \"(C ∩ A) ∪ (C \\\\ B)\": ans9,\n",
    "    \"|A ∪ B ∪ C|\": left_hand_eq,\n",
    "    \"Inclusion-Exclusion RHS\": right_hand_eq,\n",
    "    \"Inclusion-Exclusion Equal\": comparison\n",
    "}\n"
   ]
  }
 ],
 "metadata": {
  "kernelspec": {
   "display_name": "base",
   "language": "python",
   "name": "python3"
  },
  "language_info": {
   "codemirror_mode": {
    "name": "ipython",
    "version": 3
   },
   "file_extension": ".py",
   "mimetype": "text/x-python",
   "name": "python",
   "nbconvert_exporter": "python",
   "pygments_lexer": "ipython3",
   "version": "3.13.5"
  }
 },
 "nbformat": 4,
 "nbformat_minor": 5
}
